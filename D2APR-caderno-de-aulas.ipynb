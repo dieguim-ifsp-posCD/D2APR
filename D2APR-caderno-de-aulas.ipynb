{
 "cells": [
  {
   "cell_type": "markdown",
   "id": "4f46188c-c283-45b7-9dde-4f994ecb0cbb",
   "metadata": {},
   "source": [
    "# D2APR - Aprendizado de Máquina e Reconhecimento de Padrões\n",
    "\n",
    "- Professor [Samuel Botter Martins](https://lattes.cnpq.br/8252944637606624)\n",
    "- Email [samuel.martins@ifsp.edu.br](mailto:samuel.martins@ifsp.edu.br)"
   ]
  },
  {
   "cell_type": "markdown",
   "id": "0e708824-56c4-40df-8d62-df6c8ad2c5f8",
   "metadata": {},
   "source": [
    "## Informações Gerais\n",
    "\n",
    "- Horário de atendimento: [Quinta, 18:00 às 19:00](https://meet.google.com/tpa-zeup-ztj)\n",
    "- Rótulo para Assunto do E-mail: `[D2APR]`\n",
    "- Google Meet: [Link das aulas](https://meet.google.com/wng-xtnj-qkb)\n",
    "- Repositório de Códigos: [https://github.com/xavecoding/IFSP-CMP-D2APR-2021.2](https://github.com/xavecoding/IFSP-CMP-D2APR-2021.2) | [Fork](https://github.com/dieguim-ifsp-posCD/IFSP-CMP-D2APR-2021.2)\n",
    "- Livro base: [Hands-On Machine Learning with Scikit-Learn, Keras, and TensorFlow, 2nd Edition](https://www.oreilly.com/library/view/hands-on-machine-learning/9781492032632/) | [Github repo](https://github.com/ageron/handson-ml2)\n",
    "- [Slides: Apresentação da Disciplina](slides/20210819-D2APR-aula00-apresentacao_da_disciplina.pdf)\n",
    "\n",
    "---\n",
    "\n",
    "## Recursos úteis\n",
    "\n",
    "- [Infográfico: Machine Learning Project Checklist](slides/20210819-D2APR-aula00-machine_learning_project_checklist.pdf)\n",
    "- [Tutorial: Instalando o ambiente](slides/20210819-D2APR-aula00-instalando_ambiente.pdf)\n",
    "\n",
    "### Construção de portfólio de projetos de Data Science\n",
    "\n",
    "- [Artigo: Create a Minimalism GitHub Page for Your Data Science Portfolio in 30 Minutes - Chris Tran](https://chriskhanhtran.github.io/_posts/2020-01-13-portfolio-tutorial/)\n",
    "- [Artigo: How to Build a Data Science Portfolio in 6 Steps](https://www.springboard.com/library/data-science/how-to-build-portfolio/)\n",
    "- [Artigo: How to Build a Data Science Portfolio - KDnuggets](https://www.kdnuggets.com/2018/07/build-data-science-portfolio.html)\n",
    "- [Playlist: Portfólio de Respeito - Seja Um Data Scientist](https://www.youtube.com/watch?v=pkb322aefrg&list=PLZlkyCIi8bMpXKmdgoEob-uGNBJ9SJmzo)\n",
    "- [Artigo: Data Science Portfolios That Will Get You the Job - Dataquest](https://www.dataquest.io/blog/build-a-data-science-portfolio/)\n",
    "- [Artigo: A step-by-step guide for creating an authentic data science portfolio project - KDnuggets](https://www.kdnuggets.com/2020/10/guide-authentic-data-science-portfolio-project.html)\n",
    "- [Video: How to Build a Data Science Portfolio Website with Hugo & Github Pages - Ken Jee](https://www.youtube.com/watch?v=mEZ1Hj5yQ-8)\n",
    "- [3 must-have projects for your data science portfolio](???)\n",
    "\n",
    "---"
   ]
  },
  {
   "cell_type": "markdown",
   "id": "0acc04bf-49dd-4b67-a162-82ea32cfd413",
   "metadata": {},
   "source": [
    "## 19/08/2021 - Aula 01: The Machine Learning Landscape\n",
    "> Baseado no capítulo 1 do livro base *Hands-On Machine Learning...*\n",
    "\n",
    "### Materiais de aula\n",
    "\n",
    "- [Slides: The Machine Learning Landscape](slides/20210819-D2APR-aula01-the_machine_learning_landscape.pdf)\n",
    "- [Video: Gravação da aula](https://drive.google.com/file/d/1T6rwZt5udoDBL5sbMWuqsY0Yz50234Da/view)\n",
    "\n",
    "#### Material complementar\n",
    "\n",
    "- [Artigo: A Tour of Machine Learning Algorithms](https://machinelearningmastery.com/a-tour-of-machine-learning-algorithms/)\n",
    "- [Artigo: Cheat Sheet of Machine Learning and Python (and Math) Cheat Sheets](https://medium.com/machine-learning-in-practice/cheat-sheet-of-machine-learning-and-python-and-math-cheat-sheets-a4afe4e791b6)"
   ]
  },
  {
   "cell_type": "markdown",
   "id": "81a33b26-5927-45fa-9b2f-df1b2d6d4208",
   "metadata": {},
   "source": [
    "### Tipos de sistemas de ML\n",
    "\n",
    "- Aprendizado supervisionado\n",
    "  - Classificação: conjunto de treinamento com **rótulos**, **classes**, (normalmente) definidos \"manualmente*.\n",
    "  - Regressão\n",
    "- Aprendizado não-supervisionado\n",
    "  - Agrupamento\n",
    "  - Redução de dimensionalidade\n",
    "- Aprendizado semi-supervisionado\n",
    "  - Fracamente supervisionado\n",
    "- Aprendizado por reforço\n",
    "- Detecção de anomalias\n",
    "\n",
    "Outra forma de classificar:\n",
    "- Batch learning\n",
    "  - Treinamento com todo o dado disponível, *offline*, antes de ser colocado em produção\n",
    "  - Precisa ser retreinado na eventualidade de novos dados\n",
    "- Online learning\n",
    "  - Treinamento inicial antes de se colocar em produção\n",
    "  - Novos dados podem ser usados para retreinamento incremental\n",
    "  \n",
    "Mais uma categorização (por estratégia de aprendizado):\n",
    "- Instance-based learning\n",
    "  - Comparação com instâncias similares de treinamento\n",
    "  - Ex: **KNN**\n",
    "- Model-based learning\n",
    "  - Criação de um modelo (como uma *função*) usada para predições"
   ]
  },
  {
   "cell_type": "markdown",
   "id": "98ee5f3c-759a-47ab-9c70-2355e02b0b4a",
   "metadata": {},
   "source": [
    "### Principais desafios\n",
    "\n",
    "- Quantidade insuficiente de dados para treinamento\n",
    "  - Principalmente em problemas complexos, uso de redes neurais\n",
    "- Dados de pouca qualidade\n",
    "  - *Garbage in --> Garbage out*\n",
    "- Dados de treinamento não representativo\n",
    "  - Viés de amostragem\n",
    "- Características irrelevantes no conjunto de dados\n",
    "  - Feature engineering = feature selection + feature extraction (gerar novas características)"
   ]
  },
  {
   "cell_type": "markdown",
   "id": "ce163527-da09-457e-86b5-34cbb367dc49",
   "metadata": {},
   "source": [
    "### ML Pipeline\n",
    "\n",
    "1. Definir o problema\n",
    "1. Obter o dado\n",
    "1. Limpeza dos dados\n",
    "1. Exploração dos dados\n",
    "1. Preparação dos dados\n",
    "1. Treinar algoritmos de ML\n",
    "1. Avaliar algoritmo\n",
    "1. Apresentação (*storytelling*)\n",
    "1. Colocar em produção\n",
    "\n",
    "[Infográfico: Machine Learning Project Checklist](slides/20210819-D2APR-aula00-machine_learning_project_checklist.pdf)"
   ]
  },
  {
   "cell_type": "markdown",
   "id": "c82cb86d-abf5-4557-b230-cd3af1021789",
   "metadata": {},
   "source": [
    "## 26/08/2021 - Aula 02: Data Cleaning, EDA, Data Preprocessing\n",
    "\n",
    "### Materiais de aula\n",
    "\n",
    "- [Projeto de portfólio: California Housing (Sprint #1)](https://github.com/xavecoding/IFSP-CMP-D2APR-2021.2/blob/main/projects/portfolio/project-01_regression_California-housing-prices/california-housing-sprint-01.ipynb): [Código Final](repositorio-curso/projects/portfolio/project-01_regression_California-housing-prices/california-housing-sprint-01.ipynb) | [Código de Estudo](repositorio-curso/projects/portfolio/project-01_regression_California-housing-prices/studying/20210826-california-housing-sprint-01.ipynb)\n",
    "- [Video: Gravação da aula](https://drive.google.com/file/d/1BXbiid6PxRBdQTCmc-9KmOdabW1L6J4n/view)\n",
    "\n",
    "#### Material complementar\n",
    "\n",
    "- [The 5 Sampling Algorithms every Data Scientist need to know](https://towardsdatascience.com/the-5-sampling-algorithms-every-data-scientist-need-to-know-43c7bc11d17c)\n",
    "- [Tour of Data Sampling Methods for Imbalanced Classification](https://machinelearningmastery.com/data-sampling-methods-for-imbalanced-classification/)\n",
    "- [All Pandas cut() you should know for transforming numerical data into categorical data](https://towardsdatascience.com/all-pandas-cut-you-should-know-for-transforming-numerical-data-into-categorical-data-1370cf7f4c4f)\n",
    "- [Binning Data with Pandas qcut and cut](https://pbpython.com/pandas-qcut-cut.html)\n",
    "- [Here's All you Need to Know About Encoding Categorical Data (with Python code)](https://www.analyticsvidhya.com/blog/2020/08/types-of-categorical-data-encoding/)"
   ]
  },
  {
   "cell_type": "markdown",
   "id": "6045715d-42ed-4453-b519-9144ccf4d360",
   "metadata": {},
   "source": [
    "## 02/09/2021 - Aula 03: Linear Regression, Overfitting vs Underfitting, and Feature Scaling\n",
    "\n",
    "### Materiais de aula\n",
    "\n",
    "- [Slides: Machine Learning Concepts](slides/20210902-D2APR-aula03-ML_concepts.pdf)\n",
    "- [Slides: Linear Regression and Gradient Descent](slides/20210902-D2APR-aula03-linear_regression.pdf)\n",
    "- [Projeto de portfólio: California Housing (Sprint #1)](https://github.com/xavecoding/IFSP-CMP-D2APR-2021.2/blob/main/projects/portfolio/project-01_regression_California-housing-prices/california-housing-sprint-01.ipynb): [Código Final](repositorio-curso/projects/portfolio/project-01_regression_California-housing-prices/california-housing-sprint-01.ipynb) | [Código de Estudo](repositorio-curso/projects/portfolio/project-01_regression_California-housing-prices/studying/20210902-california-housing-sprint-01.ipynb)\n",
    "- [Projeto de portfólio: California Housing (Sprint #2)](https://github.com/xavecoding/IFSP-CMP-D2APR-2021.2/blob/main/projects/portfolio/project-01_regression_California-housing-prices/california-housing-sprint-02.ipynb): [Código Final](repositorio-curso/projects/portfolio/project-01_regression_California-housing-prices/california-housing-sprint-02.ipynb) | [Código de Estudo](repositorio-curso/projects/portfolio/project-01_regression_California-housing-prices/studying/20210902-california-housing-sprint-02.ipynb)\n",
    "- [Projeto de portfólio: California Housing (Sprint #3)](https://github.com/xavecoding/IFSP-CMP-D2APR-2021.2/blob/main/projects/portfolio/project-01_regression_California-housing-prices/california-housing-sprint-03.ipynb): [Código Final](repositorio-curso/projects/portfolio/project-01_regression_California-housing-prices/california-housing-sprint-03.ipynb) | [Código de Estudo](repositorio-curso/projects/portfolio/project-01_regression_California-housing-prices/studying/20210902-california-housing-sprint-03.ipynb)\n",
    "\n",
    "#### Material complementar\n",
    "\n",
    "- [Assumptions of linear regression](https://towardsdatascience.com/assumptions-of-linear-regression-fdb71ebeaa8b)\n",
    "- [Heteroscedasticity in Regression Analysis](https://statisticsbyjim.com/regression/heteroscedasticity-regression/)\n",
    "- [Interpreting Residual Plots to Improve Your Regression](https://www.qualtrics.com/support/stats-iq/analyses/regression-guides/interpreting-residual-plots-improve-regression/)\n",
    "- [Video: Testing the Homoscedasticity and Linearity Assumptions](https://www.youtube.com/watch?v=YEfYLIOMJSU)\n",
    "- [Robust Regression for Machine Learning in Python](https://machinelearningmastery.com/robust-regression-for-machine-learning-in-python/)\n",
    "- [Looking at R-Squared](https://medium.com/@erika.dauria/looking-at-r-squared-721252709098)\n",
    "- [Log Transformation: Purpose and Interpretation](https://medium.com/@kyawsawhtoon/log-transformation-purpose-and-interpretation-9444b4b049c9)\n",
    "- [Feature Transformation](https://medium.com/@sjacks/feature-transformation-21282d1a3215)\n",
    "- [Linear Regression Models with Logarithmic Transformation](https://kenbenoit.net/assets/courses/ME104/logmodels2.pdf)\n",
    "- [How can I use scaling and log transforming together?](https://stats.stackexchange.com/questions/402470/how-can-i-use-scaling-and-log-transforming-together)"
   ]
  },
  {
   "cell_type": "markdown",
   "id": "5c1197cb-237f-481d-890e-c929c129859f",
   "metadata": {},
   "source": [
    "## 09/09/2021 - Aula 04: Model Validation, Gradient Descent\n",
    "\n",
    "### Materiais de aula\n",
    "\n",
    "- [Slides: Machine Learning Concepts](slides/20210909-D2APR-aula04-ML_concepts.pdf)\n",
    "- [Slides: Linear Regression and Gradient Descent](slides/20210909-D2APR-aula04-linear_regression.pdf)\n",
    "- [Projeto de portfólio: California Housing (Sprint #3)](https://github.com/xavecoding/IFSP-CMP-D2APR-2021.2/blob/main/projects/portfolio/project-01_regression_California-housing-prices/california-housing-sprint-03.ipynb): [Código Final](repositorio-curso/projects/portfolio/project-01_regression_California-housing-prices/california-housing-sprint-03.ipynb) | [Código de Estudo](repositorio-curso/projects/portfolio/project-01_regression_California-housing-prices/studying/20210909-california-housing-sprint-03.ipynb)\n",
    "- [Notebook: Implementation of Gradient Descent Strategies](https://github.com/ageron/handson-ml2/blob/master/04_training_linear_models.ipynb)"
   ]
  }
 ],
 "metadata": {
  "kernelspec": {
   "display_name": "Python 3",
   "language": "python",
   "name": "python3"
  },
  "language_info": {
   "codemirror_mode": {
    "name": "ipython",
    "version": 3
   },
   "file_extension": ".py",
   "mimetype": "text/x-python",
   "name": "python",
   "nbconvert_exporter": "python",
   "pygments_lexer": "ipython3",
   "version": "3.9.2"
  }
 },
 "nbformat": 4,
 "nbformat_minor": 5
}
