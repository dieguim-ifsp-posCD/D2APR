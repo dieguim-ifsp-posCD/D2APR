{
 "cells": [
  {
   "cell_type": "markdown",
   "id": "4f46188c-c283-45b7-9dde-4f994ecb0cbb",
   "metadata": {},
   "source": [
    "# D2APR - Aprendizado de Máquina e Reconhecimento de Padrões\n",
    "\n",
    "- Professor [Samuel Botter Martins](https://lattes.cnpq.br/8252944637606624)\n",
    "- Email [samuel.martins@ifsp.edu.br](mailto:samuel.martins@ifsp.edu.br)"
   ]
  },
  {
   "cell_type": "markdown",
   "id": "0e708824-56c4-40df-8d62-df6c8ad2c5f8",
   "metadata": {},
   "source": [
    "## Informações Gerais\n",
    "\n",
    "- Horário de atendimento: [Quinta, 18:00 às 19:00](https://meet.google.com/tpa-zeup-ztj)\n",
    "- Rótulo para Assunto do E-mail: `[D2APR]`\n",
    "- Google Meet: [Link das aulas](https://meet.google.com/wng-xtnj-qkb)\n",
    "- Repositório de Códigos: [https://github.com/xavecoding/IFSP-CMP-D2APR-2021.2](https://github.com/xavecoding/IFSP-CMP-D2APR-2021.2) | [Fork](https://github.com/dieguim-ifsp-posCD/IFSP-CMP-D2APR-2021.2)\n",
    "- Livro base: [Hands-On Machine Learning with Scikit-Learn, Keras, and TensorFlow, 2nd Edition](https://www.oreilly.com/library/view/hands-on-machine-learning/9781492032632/) | [Github repo](https://github.com/ageron/handson-ml2)\n",
    "- [Slides: Apresentação da Disciplina](slides/20210819-D2APR-aula00-apresentacao_da_disciplina.pdf)\n",
    "\n",
    "## Recursos úteis\n",
    "\n",
    "- [Infográfico: Machine Learning Project Checklist](slides/20210819-D2APR-aula00-machine_learning_project_hecklist.pdf)\n",
    "- [Tutorial: Instalando o ambiente](slides/20210819-D2APR-aula00-instalando_ambiente.pdf)\n",
    "\n",
    "### Construção de portfólio de projetos de Data Science\n",
    "\n",
    "- [Artigo: Create a Minimalism GitHub Page for Your Data Science Portfolio in 30 Minutes - Chris Tran](https://chriskhanhtran.github.io/_posts/2020-01-13-portfolio-tutorial/)\n",
    "- [Artigo: How to Build a Data Science Portfolio in 6 Steps](https://www.springboard.com/library/data-science/how-to-build-portfolio/)\n",
    "- [Artigo: How to Build a Data Science Portfolio - KDnuggets](https://www.kdnuggets.com/2018/07/build-data-science-portfolio.html)\n",
    "- [Playlist: Portfólio de Respeito - Seja Um Data Scientist](https://www.youtube.com/watch?v=pkb322aefrg&list=PLZlkyCIi8bMpXKmdgoEob-uGNBJ9SJmzo)\n",
    "- [Artigo: Data Science Portfolios That Will Get You the Job - Dataquest](https://www.dataquest.io/blog/build-a-data-science-portfolio/)\n",
    "- [Artigo: A step-by-step guide for creating an authentic data science portfolio project - KDnuggets](https://www.kdnuggets.com/2020/10/guide-authentic-data-science-portfolio-project.html)\n",
    "- [Video: How to Build a Data Science Portfolio Website with Hugo & Github Pages - Ken Jee](https://www.youtube.com/watch?v=mEZ1Hj5yQ-8)\n",
    "- [3 must-have projects for your data science portfolio](???)"
   ]
  },
  {
   "cell_type": "markdown",
   "id": "0acc04bf-49dd-4b67-a162-82ea32cfd413",
   "metadata": {},
   "source": [
    "## 19/08/2021 - Aula 01: The Machine Learning Landscape\n",
    "\n",
    "### Materiais de aula\n",
    "\n",
    "- [Slides: The Machine Learning Landscape](slides/20210819-D2APR-aula01-the_machine_learning_landscape.pdf)\n",
    "\n",
    "#### Material complementar\n",
    "\n",
    "- [Artigo: A Tour of Machine Learning Algorithms](https://machinelearningmastery.com/a-tour-of-machine-learning-algorithms/)\n",
    "- [Artigo: Cheat Sheet of Machine Learning and Python (and Math) Cheat Sheets](https://medium.com/machine-learning-in-practice/cheat-sheet-of-machine-learning-and-python-and-math-cheat-sheets-a4afe4e791b6)"
   ]
  }
 ],
 "metadata": {
  "kernelspec": {
   "display_name": "Python 3",
   "language": "python",
   "name": "python3"
  },
  "language_info": {
   "codemirror_mode": {
    "name": "ipython",
    "version": 3
   },
   "file_extension": ".py",
   "mimetype": "text/x-python",
   "name": "python",
   "nbconvert_exporter": "python",
   "pygments_lexer": "ipython3",
   "version": "3.9.4"
  }
 },
 "nbformat": 4,
 "nbformat_minor": 5
}
