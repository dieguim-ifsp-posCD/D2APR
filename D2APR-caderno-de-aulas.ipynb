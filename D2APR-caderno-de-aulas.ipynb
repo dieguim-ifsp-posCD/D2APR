{
 "cells": [
  {
   "cell_type": "markdown",
   "id": "4bb6aef6",
   "metadata": {},
   "source": [
    "# D2APR - Aprendizado de Máquina e Reconhecimento de Padrões\n",
    "\n",
    "- Professor [Samuel Botter Martins](https://lattes.cnpq.br/8252944637606624)\n",
    "- Email [samuel.martins@ifsp.edu.br](mailto:samuel.martins@ifsp.edu.br)\n",
    "- Horário de atendimento: [Quinta, 18:00 às 19:00](https://meet.google.com/tpa-zeup-ztj)\n",
    "- Rótulo para Assunto do E-mail: `[D2APR]`\n",
    "- Google Meet: [Link das aulas](https://meet.google.com/wng-xtnj-qkb)\n",
    "- Repositório de Códigos: [https://github.com/xavecoding/IFSP-CMP-D2APR-2021.2](https://github.com/xavecoding/IFSP-CMP-D2APR-2021.2) | [Fork](https://github.com/dieguim-ifsp-posCD/IFSP-CMP-D2APR-2021.2)\n",
    "- Livro base: [Hands-On Machine Learning with Scikit-Learn, Keras, and TensorFlow, 2nd Edition](https://www.oreilly.com/library/view/hands-on-machine-learning/9781492032632/) | [Github repo](https://github.com/ageron/handson-ml2)"
   ]
  }
 ],
 "metadata": {
  "kernelspec": {
   "display_name": "Python 3",
   "language": "python",
   "name": "python3"
  },
  "language_info": {
   "codemirror_mode": {
    "name": "ipython",
    "version": 3
   },
   "file_extension": ".py",
   "mimetype": "text/x-python",
   "name": "python",
   "nbconvert_exporter": "python",
   "pygments_lexer": "ipython3",
   "version": "3.9.2"
  }
 },
 "nbformat": 4,
 "nbformat_minor": 5
}
